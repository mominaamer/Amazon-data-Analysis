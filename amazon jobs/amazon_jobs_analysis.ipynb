{
  "nbformat": 4,
  "nbformat_minor": 0,
  "metadata": {
    "kernelspec": {
      "display_name": "Python 3",
      "language": "python",
      "name": "python3"
    },
    "language_info": {
      "codemirror_mode": {
        "name": "ipython",
        "version": 3
      },
      "file_extension": ".py",
      "mimetype": "text/x-python",
      "name": "python",
      "nbconvert_exporter": "python",
      "pygments_lexer": "ipython3",
      "version": "3.6.4"
    },
    "colab": {
      "name": "amazon-jobs-analysis.ipynb",
      "provenance": [],
      "include_colab_link": true
    }
  },
  "cells": [
    {
      "cell_type": "markdown",
      "metadata": {
        "id": "view-in-github",
        "colab_type": "text"
      },
      "source": [
        "<a href=\"https://colab.research.google.com/github/mominaamer/Amazon-data-Analysis/blob/main/amazon_jobs_analysis.ipynb\" target=\"_parent\"><img src=\"https://colab.research.google.com/assets/colab-badge.svg\" alt=\"Open In Colab\"/></a>"
      ]
    },
    {
      "cell_type": "markdown",
      "metadata": {
        "_uuid": "0930c6bc145bf5b17d8d198118ba3260b5a46cf9",
        "id": "yWEgmB3uk1xK"
      },
      "source": [
        "#  Importing packages"
      ]
    },
    {
      "cell_type": "code",
      "metadata": {
        "collapsed": true,
        "trusted": true,
        "_uuid": "4ce83a612049a9062270a72ea2ef880986686074",
        "id": "DHnaHHcWk1x-"
      },
      "source": [
        "# pandas for handling our dataset\n",
        "import pandas as pd\n",
        "# numpy for numeric operations\n",
        "import numpy as np\n",
        "from collections import defaultdict\n",
        "\n",
        "# matplotlib for plotting\n",
        "import matplotlib.pyplot as plt\n",
        "# use ggplot style\n",
        "plt.style.use('ggplot')\n",
        "# seaborn for beautiful visualizations\n",
        "import seaborn as sns\n",
        "# regualar expression\n",
        "import re\n",
        "# print inline in this notebook\n",
        "%matplotlib inline\n"
      ],
      "execution_count": null,
      "outputs": []
    },
    {
      "cell_type": "markdown",
      "metadata": {
        "_uuid": "c2bfa02a709df4dc27ea4d172fa027146d396b18",
        "id": "S7DHztmDk1yR"
      },
      "source": [
        "#  Load the data"
      ]
    },
    {
      "cell_type": "code",
      "metadata": {
        "trusted": true,
        "_uuid": "e834e3e8f6a5e996f1b66081cc0678ef129b59c7",
        "id": "djXtG9DRk1yV"
      },
      "source": [
        "# read the data set using pandas .read_csv() method\n",
        "df_job_description = pd.read_csv('../input/amazon_jobs_dataset.csv')\n",
        "# print the top 5 row from the dataframe\n",
        "df_job_description.head()"
      ],
      "execution_count": null,
      "outputs": []
    },
    {
      "cell_type": "markdown",
      "metadata": {
        "_uuid": "966dc4478234baf49439b47e74abd87a1e0e9ad4",
        "id": "1fzcer0Qk1yY"
      },
      "source": [
        "# What programming languages and technologies are required at Amazon?"
      ]
    },
    {
      "cell_type": "code",
      "metadata": {
        "collapsed": true,
        "trusted": true,
        "_uuid": "ce8c29140befa694d23caafa12a7e1c86089af94",
        "id": "NL-K-Ftuk1ya"
      },
      "source": [
        "#list of programming langauages and technologies\n",
        "languages_list = ['swift','matlab','mongodb','hadoop','cosmos', 'mysql','spark', 'pig', 'python', 'java', 'c++', 'php', 'javascript', 'objectivec', 'ruby', 'perl','c','c#']"
      ],
      "execution_count": null,
      "outputs": []
    },
    {
      "cell_type": "code",
      "metadata": {
        "collapsed": true,
        "trusted": true,
        "_uuid": "2ff449fb4ba3d51cb1076eba4cc93f21c3c0eb9f",
        "id": "XX84adyYk1yd"
      },
      "source": [
        "# get our BASIC QUALIFICATIONS and PREFERRED QUALIFICATIONS columns and and convert all of the values to a list\n",
        "qualifications = df_job_description['BASIC QUALIFICATIONS'].tolist()+df_job_description['PREFERRED QUALIFICATIONS'].tolist()\n",
        "# joining the list to a single string and lower case the letter\n",
        "qualifications_string = \"\".join(re.sub('[·,-/’()]', '', str(v)) for v in qualifications).lower()"
      ],
      "execution_count": null,
      "outputs": []
    },
    {
      "cell_type": "code",
      "metadata": {
        "trusted": true,
        "_uuid": "4b941ff0df129cf7d9151abbe8bb0ac493c51f0e",
        "id": "Gf5kLRi0k1yp"
      },
      "source": [
        "wordcount = dict((x,0) for x in languages_list)\n",
        "for w in re.findall(r\"[[\\w'+#-]+|[.!?;’]\", qualifications_string):\n",
        "    if w in wordcount:\n",
        "        wordcount[w] += 1\n",
        "# print\n",
        "print(wordcount)\n"
      ],
      "execution_count": null,
      "outputs": []
    },
    {
      "cell_type": "code",
      "metadata": {
        "collapsed": true,
        "trusted": true,
        "_uuid": "febf463bc71b0f57c2fb5bf89895cc5fe228290e",
        "id": "j4GsbHq6k1yr"
      },
      "source": [
        "# sort the dict\n",
        "programming_language_popularity = sorted(wordcount.items(), key=lambda kv: kv[1], reverse=True)"
      ],
      "execution_count": null,
      "outputs": []
    },
    {
      "cell_type": "code",
      "metadata": {
        "collapsed": true,
        "trusted": true,
        "_uuid": "5c56236c0b475757bac743888a9591455b3ef55b",
        "id": "g36z3ahIk1yu"
      },
      "source": [
        "# make a new dataframe from programming languages and their popularity\n",
        "df_popular_programming_lang = pd.DataFrame(programming_language_popularity,columns=['Language','Popularity'])\n",
        "# Capitalize each programming language first letter\n",
        "df_popular_programming_lang['Language'] = df_popular_programming_lang.Language.str.capitalize()\n",
        "df_popular_programming_lang = df_popular_programming_lang[::-1]"
      ],
      "execution_count": null,
      "outputs": []
    },
    {
      "cell_type": "code",
      "metadata": {
        "trusted": true,
        "_uuid": "597c85718d2169c83156282d51306e14c297783f",
        "id": "JIcJMNzzk1yx"
      },
      "source": [
        "df_popular_programming_lang"
      ],
      "execution_count": null,
      "outputs": []
    },
    {
      "cell_type": "code",
      "metadata": {
        "trusted": true,
        "_uuid": "0279afe2aa56435a7a22162c931572c027f874c3",
        "id": "3_ObnnIRk1y0"
      },
      "source": [
        "# plot\n",
        "df_popular_programming_lang.plot.bar(x='Language',y='Popularity',figsize=(15,15), legend=False)\n",
        "# add a suptitle\n",
        "plt.suptitle(\"Programming Languages popularity at Amazon Jobs\", fontsize=20)\n",
        "# set xlabel to \"\"\n",
        "plt.xlabel(\"\")\n",
        "# change xticks fontsize to 14\n",
        "plt.xticks(fontsize=16)\n",
        "plt.yticks(fontsize=16)\n",
        "# finally show the plot\n",
        "plt.show()"
      ],
      "execution_count": null,
      "outputs": []
    },
    {
      "cell_type": "markdown",
      "metadata": {
        "_uuid": "d6974cc94d5ac484af4badd23cf3a30531e280e9",
        "id": "iRl_GGekk1y4"
      },
      "source": [
        "# Which degrees are most asked at Amazon Jobs?"
      ]
    },
    {
      "cell_type": "code",
      "metadata": {
        "collapsed": true,
        "trusted": true,
        "_uuid": "9b3436471ddd65897399c8cca7686bc9804f7866",
        "id": "EQ8fIvJWk1y6"
      },
      "source": [
        "# get our BASIC QUALIFICATIONS and PREFERRED QUALIFICATIONS columns and and convert all of the values to a string\n",
        "\n",
        "basic_qualifications_string = \"\".join(re.sub('[·,-/’()]', '', str(v)) for v in qualifications)\n"
      ],
      "execution_count": null,
      "outputs": []
    },
    {
      "cell_type": "code",
      "metadata": {
        "collapsed": true,
        "trusted": true,
        "_uuid": "d7bc4dbfaf23ad6964fbe1d74be63c36eeb347ed",
        "id": "clnkmzq-k1y8"
      },
      "source": [
        "degree_list = [\"BA\", \"BS\", \"Bachelor's\", \"PhD\",\"MS\",\"Master's\"]"
      ],
      "execution_count": null,
      "outputs": []
    },
    {
      "cell_type": "code",
      "metadata": {
        "trusted": true,
        "_uuid": "430f6567f6781d575c9f82b6f6033724c5b2c304",
        "id": "rDeMm67Ck1y9"
      },
      "source": [
        "wordcount = dict((x,0) for x in degree_list)\n",
        "for w in re.findall(r\"[\\w']+|[.,!?;’]\", basic_qualifications_string):\n",
        "    if w in wordcount:\n",
        "        wordcount[w] += 1\n",
        "# print\n",
        "print(wordcount)"
      ],
      "execution_count": null,
      "outputs": []
    },
    {
      "cell_type": "code",
      "metadata": {
        "collapsed": true,
        "trusted": true,
        "_uuid": "3be3549d835cc41b8b055bde950f3a20e048f671",
        "id": "f57zqsqHk1y_"
      },
      "source": [
        "degree_wanted = sorted(wordcount.items(), key=lambda kv: kv[1], reverse=True)"
      ],
      "execution_count": null,
      "outputs": []
    },
    {
      "cell_type": "code",
      "metadata": {
        "trusted": true,
        "_uuid": "7d83e332a50d4fd3e2dc53d404e50c36d57ad4d7",
        "id": "xAGgTOlzk1zF"
      },
      "source": [
        "df_degree_popular = pd.DataFrame(degree_wanted,columns=['Degree','Popularity'])\n",
        "\n",
        "df_degree_popular"
      ],
      "execution_count": null,
      "outputs": []
    },
    {
      "cell_type": "markdown",
      "metadata": {
        "_uuid": "317b2d7a74b96365ea043dfaf88867be0e78ef56",
        "id": "VRBjq4i8k1zH"
      },
      "source": [
        "Here I added 'Bachelor's' and 'BA' and make a new category as 'Bachelor of Science'. Also, I added 'Master's' and 'MS' to make a new category 'Master of science'. Below I created a new DataFrame for all types of degree and theri popularity."
      ]
    },
    {
      "cell_type": "code",
      "metadata": {
        "trusted": true,
        "_uuid": "01a303ae0cac5d5c7bc959e62de336ef38411fd0",
        "id": "EF8Om2Rvk1zI"
      },
      "source": [
        "num=list([('Bachelor of Science',1471),('Master of Science',850),('PhD',489),('BA',2)])\n",
        "df_degree_popular = pd.DataFrame(num,columns=['Degree','Popularity'])\n",
        "df_degree_popular"
      ],
      "execution_count": null,
      "outputs": []
    },
    {
      "cell_type": "code",
      "metadata": {
        "trusted": true,
        "_uuid": "6506eab4bc92c1bb4b2476e12d087733c6988c37",
        "id": "s0zWz4VAk1zK"
      },
      "source": [
        "df_degree_popular = df_degree_popular[::-1] \n",
        "# plot\n",
        "df_degree_popular.plot.bar(x='Degree',y='Popularity',figsize=(15,10), stacked=True)\n",
        "# add a suptitle\n",
        "plt.suptitle(\"Popularity of academic degree at Amazon Jobs \", fontsize=18)\n",
        "# set xlabel to \"\"\n",
        "plt.xlabel(\"\")\n",
        "\n",
        "plt.xticks(fontsize=18)\n",
        "plt.yticks(fontsize=18)\n",
        "# finally show the plot\n",
        "plt.show()"
      ],
      "execution_count": null,
      "outputs": []
    },
    {
      "cell_type": "markdown",
      "metadata": {
        "_uuid": "0751c41afdefb91cc184a8827c4833b549be9e8a",
        "id": "afFrR5dvk1zM"
      },
      "source": [
        "# How many years of experiences are asked for Amazon Jobs?"
      ]
    },
    {
      "cell_type": "code",
      "metadata": {
        "trusted": true,
        "_uuid": "6170048057b881c97b0b5861cbd66f03f8b3b84e",
        "id": "UxTLhp68k1zQ"
      },
      "source": [
        "years = defaultdict(lambda: 0)\n",
        "\n",
        "for w in re.findall(r'([0-9]) ', basic_qualifications_string):\n",
        "     years[w] += 1\n",
        "        \n",
        "print(years)"
      ],
      "execution_count": null,
      "outputs": []
    },
    {
      "cell_type": "code",
      "metadata": {
        "collapsed": true,
        "trusted": true,
        "_uuid": "69dc67afbb4affc533b91dbc076f5fedc50afaf8",
        "id": "Y0Xv2d_wk1zU"
      },
      "source": [
        "years = sorted(years.items(), key=lambda kv: kv[1], reverse=True)\n"
      ],
      "execution_count": null,
      "outputs": []
    },
    {
      "cell_type": "code",
      "metadata": {
        "collapsed": true,
        "trusted": true,
        "_uuid": "bdccba811248113c1e7cd14d10e26001ea03e13e",
        "id": "X0MPJc8Pk1zY"
      },
      "source": [
        "df_years = pd.DataFrame(years,columns=['Years of experience','Popularity'])\n",
        "df_years = df_years[::-1] "
      ],
      "execution_count": null,
      "outputs": []
    },
    {
      "cell_type": "code",
      "metadata": {
        "trusted": true,
        "_uuid": "7b8c4a257cbbf5ccf31b2fe626e6fc8ba88c4d73",
        "id": "ftWh2-Mwk1zZ"
      },
      "source": [
        "df_years.plot.bar(x='Years of experience',y='Popularity',figsize=(10, 8), legend=False,stacked=True)\n",
        "# add a suptitle\n",
        "plt.title(\"Years of experiences needed for Amazon Jobs\", fontsize=18)\n",
        "# set xlabel to \"\"\n",
        "plt.xlabel(\"Popularity\", fontsize=14)\n",
        "plt.ylabel(\"Years of experiences\",fontsize=18)\n",
        "# change xticks fontsize to 14\n",
        "plt.xticks(fontsize=18)\n",
        "plt.yticks(fontsize=18)\n",
        "# finally show the plot\n",
        "plt.show()"
      ],
      "execution_count": null,
      "outputs": []
    },
    {
      "cell_type": "markdown",
      "metadata": {
        "_uuid": "9d87e2ff91019c93fbee1c619d759c9313f2830c",
        "id": "CeT6KABOk1zb"
      },
      "source": [
        "#  Which location does Amazon need more employee?"
      ]
    },
    {
      "cell_type": "code",
      "metadata": {
        "collapsed": true,
        "trusted": true,
        "_uuid": "5e64531bc2c3b70550ef39d51ceaa71c37663de4",
        "id": "nLv9Fz8Ik1zf"
      },
      "source": [
        "# where is most job located\n",
        "threshold = 10\n",
        "location_value_counts = df_job_description.location.value_counts()\n",
        "to_remove = location_value_counts[location_value_counts <= threshold].index\n",
        "df_job_description['location'].replace(to_remove, np.nan, inplace=True)\n",
        "location_value_counts = df_job_description.location.value_counts()\n",
        "location_value_counts = location_value_counts[::-1]"
      ],
      "execution_count": null,
      "outputs": []
    },
    {
      "cell_type": "code",
      "metadata": {
        "trusted": true,
        "_uuid": "81d40e464b021719cf8b7ebcd81c9cbcf889c78e",
        "id": "OpXIN4z0k1zh"
      },
      "source": [
        "location_value_counts.plot.barh(figsize=(15, 15))\n",
        "# add a suptitle\n",
        "plt.title(\"Amazon Jobs Location\", fontsize=24)\n",
        "# set xlabel to \"\"\n",
        "plt.xlabel(\"Popularity\", fontsize=20)\n",
        "plt.ylabel(\"Location\",fontsize=20)\n",
        "# change xticks fontsize to 14\n",
        "plt.xticks(fontsize=24)\n",
        "plt.yticks(fontsize=20)\n",
        "# finally show the plot\n",
        "plt.show()"
      ],
      "execution_count": null,
      "outputs": []
    }
  ]
}
