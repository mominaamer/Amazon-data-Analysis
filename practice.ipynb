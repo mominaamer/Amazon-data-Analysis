{
  "nbformat": 4,
  "nbformat_minor": 0,
  "metadata": {
    "colab": {
      "name": "Untitled0.ipynb",
      "provenance": [],
      "authorship_tag": "ABX9TyOESdPms2DMsKm6Dv9jH9WD",
      "include_colab_link": true
    },
    "kernelspec": {
      "name": "python3",
      "display_name": "Python 3"
    }
  },
  "cells": [
    {
      "cell_type": "markdown",
      "metadata": {
        "id": "view-in-github",
        "colab_type": "text"
      },
      "source": [
        "<a href=\"https://colab.research.google.com/github/mominaamer/ML1/blob/main/practice.ipynb\" target=\"_parent\"><img src=\"https://colab.research.google.com/assets/colab-badge.svg\" alt=\"Open In Colab\"/></a>"
      ]
    },
    {
      "cell_type": "code",
      "metadata": {
        "id": "M0JijsRXnNUT",
        "colab": {
          "base_uri": "https://localhost:8080/"
        },
        "outputId": "896a130d-7139-4687-fab6-b8dc349eb26c"
      },
      "source": [
        "print(2 + 4)\r\n",
        " "
      ],
      "execution_count": 1,
      "outputs": [
        {
          "output_type": "stream",
          "text": [
            "6\n"
          ],
          "name": "stdout"
        }
      ]
    },
    {
      "cell_type": "markdown",
      "metadata": {
        "id": "UcCZa6L9nip3"
      },
      "source": [
        "Machine learning\n",
        " "
      ]
    },
    {
      "cell_type": "code",
      "metadata": {
        "id": "oX2nuL5cnmz-",
        "colab": {
          "base_uri": "https://localhost:8080/"
        },
        "outputId": "80a8a750-df62-47f7-dd8a-9139a0c42018"
      },
      "source": [
        "print(4+5)\r\n",
        "print(2)\r\n",
        "print(24)\r\n"
      ],
      "execution_count": 3,
      "outputs": [
        {
          "output_type": "stream",
          "text": [
            "9\n",
            "2\n",
            "24\n"
          ],
          "name": "stdout"
        }
      ]
    },
    {
      "cell_type": "code",
      "metadata": {
        "id": "iEp5f_dS_hta"
      },
      "source": [
        ""
      ],
      "execution_count": null,
      "outputs": []
    }
  ]
}